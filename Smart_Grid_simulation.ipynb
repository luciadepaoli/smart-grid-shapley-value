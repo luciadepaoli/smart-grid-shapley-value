{
 "cells": [
  {
   "cell_type": "code",
   "execution_count": null,
   "id": "1fde8ef9-38aa-47b4-9e5d-b85f0b1fb7ec",
   "metadata": {},
   "outputs": [],
   "source": [
    "import itertools\n",
    "import math\n",
    "import numpy as np"
   ]
  },
  {
   "cell_type": "code",
   "execution_count": null,
   "id": "1a29c7ae-6b9c-4425-9a72-e7de6ff7831c",
   "metadata": {},
   "outputs": [],
   "source": [
    "%run -i utils.py"
   ]
  },
  {
   "cell_type": "markdown",
   "id": "2ac67f47-04a1-4c8c-b60d-05251de5bf18",
   "metadata": {},
   "source": [
    "### Parameters definition"
   ]
  },
  {
   "cell_type": "code",
   "execution_count": null,
   "id": "f186ef65-cdaa-49e8-a03b-17c499ca3988",
   "metadata": {},
   "outputs": [],
   "source": [
    "# Number of prosumer\n",
    "n_players = 4\n",
    "# Seller price fixed\n",
    "pv = 2\n",
    "# Buyer price fixed\n",
    "pa = 1\n",
    "# Energy for each prosumer\n",
    "#energy = np.array([335, -495, -96, 541], dtype = float) #simulation\n",
    "#energy = np.array([-798, -825, -757, -649], dtype = float) #winter\n",
    "energy = np.array([-335, -495, -96, 541], dtype = float) # summer\n",
    "\n",
    "# Resistance of the distribution lines \n",
    "R = 0.2\n",
    "# Coefficient that quantify the power lost in the transformer at the M-G\n",
    "beta = 0.02\n",
    "# Mean value of the voltage\n",
    "U0 = 50\n",
    "U1 = 22\n",
    "\n",
    "# Distances from macro grid\n",
    "d = np.array([4.95, 5.09, 5.87, 5.87])\n",
    "# Matrix distances between prosumers\n",
    "distance = np.array([[0,0.2,10.82,10.82],[0.2,0,10.97,10.96],[10.82,10.97,0,0.14],[10.82,10.96,0.14,0]])"
   ]
  },
  {
   "cell_type": "markdown",
   "id": "41191793",
   "metadata": {},
   "source": [
    "### Simulation"
   ]
  },
  {
   "cell_type": "code",
   "execution_count": null,
   "id": "3091ecfd-7331-4d24-880b-51768a50ec0f",
   "metadata": {},
   "outputs": [],
   "source": [
    "players = np.arange(1, n_players+1)\n",
    "\n",
    "payoff_list = {\n",
    "    (0,): 0\n",
    "}\n",
    "for L in range(1, len(players)+1):\n",
    "    for subset in itertools.combinations(players, L):\n",
    "        v_2 = [0]\n",
    "        subset = np.array(subset)\n",
    "        Q = energy[subset-1]\n",
    "        \n",
    "        u_sell = [0]*len(Q[Q>0])\n",
    "        u = [0]*len(Q[Q<0])\n",
    "        \n",
    "        psm = price(subset, Q, pv)\n",
    "        \n",
    "        if len(subset)>1:\n",
    "            for h in range(len(payoff_list)):\n",
    "                if len(list(payoff_list.keys())[h]) < len(subset):\n",
    "                    for k in range(len(list(payoff_list.keys())[h])):\n",
    "                        if any(s == list(list(payoff_list.keys())[h])[k] for s in subset):\n",
    "                            v_2.append(list(payoff_list.values())[h])\n",
    "                            break\n",
    "            \n",
    "        val = payoff(subset, Q, energy, psm, u_sell, u)\n",
    "        payoff_list[tuple(subset)] = val\n",
    "        v_2.append(val)\n",
    "        print('Value function: ', np.round(val))\n",
    "        shap = np.array(shapley_value(len(Q),v_2))[:,1]\n",
    "        \n",
    "        for i in range(len(subset)):\n",
    "            print('Player: ',subset[i], 'Shapley value: ', np.round(shap[i].astype(np.float)))"
   ]
  }
 ],
 "metadata": {
  "kernelspec": {
   "display_name": "Python 3 (ipykernel)",
   "language": "python",
   "name": "python3"
  },
  "language_info": {
   "codemirror_mode": {
    "name": "ipython",
    "version": 3
   },
   "file_extension": ".py",
   "mimetype": "text/x-python",
   "name": "python",
   "nbconvert_exporter": "python",
   "pygments_lexer": "ipython3",
   "version": "3.10.9"
  }
 },
 "nbformat": 4,
 "nbformat_minor": 5
}
