{
 "cells": [
  {
   "cell_type": "code",
   "execution_count": 10,
   "id": "1fde8ef9-38aa-47b4-9e5d-b85f0b1fb7ec",
   "metadata": {},
   "outputs": [],
   "source": [
    "import itertools\n",
    "import math\n",
    "import numpy as np"
   ]
  },
  {
   "cell_type": "code",
   "execution_count": 11,
   "id": "1a29c7ae-6b9c-4425-9a72-e7de6ff7831c",
   "metadata": {},
   "outputs": [],
   "source": [
    "%run -i utils.py"
   ]
  },
  {
   "cell_type": "markdown",
   "id": "2ac67f47-04a1-4c8c-b60d-05251de5bf18",
   "metadata": {},
   "source": [
    "# Simulation"
   ]
  },
  {
   "cell_type": "code",
   "execution_count": 12,
   "id": "f186ef65-cdaa-49e8-a03b-17c499ca3988",
   "metadata": {},
   "outputs": [],
   "source": [
    "R = 0.2\n",
    "beta = 0.02\n",
    "U0 = 50\n",
    "U1 = 22"
   ]
  },
  {
   "cell_type": "code",
   "execution_count": 13,
   "id": "3091ecfd-7331-4d24-880b-51768a50ec0f",
   "metadata": {},
   "outputs": [
    {
     "name": "stdout",
     "output_type": "stream",
     "text": [
      "Coalition:  [1]  trading price:  2\n",
      "Value function:  -819.2908368585148\n",
      "Player:  1 Shapley value:  -819.2908368585148\n",
      "Coalition:  [2]  trading price:  2\n",
      "Value function:  -1442.505482499656\n",
      "Player:  2 Shapley value:  -1442.505482499656\n",
      "Coalition:  [3]  trading price:  2\n",
      "Value function:  -206.09507358442295\n",
      "Player:  3 Shapley value:  -206.09507358442295\n",
      "Coalition:  [4]  trading price:  1.0\n",
      "Value function:  541.0\n",
      "Player:  4 Shapley value:  541.0\n",
      "Coalition:  [1 2]  trading price:  2\n",
      "Value function:  -2261.796319358171\n",
      "Player:  1 Shapley value:  -819.2908368585149\n",
      "Player:  2 Shapley value:  -1442.505482499656\n",
      "Coalition:  [1 3]  trading price:  2\n",
      "Value function:  -1025.3859104429378\n",
      "Player:  1 Shapley value:  -819.2908368585148\n",
      "Player:  3 Shapley value:  -206.09507358442295\n",
      "Coalition:  [1 4]  trading price:  1.3096118299445472\n",
      "Value function:  -227.51956002180236\n",
      "Player:  1 Shapley value:  -793.9051984401585\n",
      "Player:  4 Shapley value:  566.3856384183562\n",
      "Coalition:  [2 3]  trading price:  2\n",
      "Value function:  -1648.600556084079\n",
      "Player:  2 Shapley value:  -1442.505482499656\n",
      "Player:  3 Shapley value:  -206.095073584423\n",
      "Coalition:  [2 4]  trading price:  1.4574861367837337\n",
      "Value function:  -762.8710603415757\n",
      "Player:  2 Shapley value:  -1373.1882714206158\n",
      "Player:  4 Shapley value:  610.3172110790401\n",
      "Coalition:  [3 4]  trading price:  1.088724584103512\n",
      "Value function:  444.460837443389\n",
      "Player:  3 Shapley value:  -151.31711807051698\n",
      "Player:  4 Shapley value:  595.7779555139059\n",
      "Coalition:  [1 2 3]  trading price:  2\n",
      "Value function:  -2467.891392942594\n",
      "Player:  1 Shapley value:  -1019.8875565931021\n",
      "Player:  2 Shapley value:  -932.5617042031049\n",
      "Player:  3 Shapley value:  303.84870471212804\n",
      "Coalition:  [1 2 4]  trading price:  1.5890326555760936\n",
      "Value function:  -1531.3906203633776\n",
      "Player:  1 Shapley value:  -1144.4034021905059\n",
      "Player:  2 Shapley value:  -1057.077549800509\n",
      "Player:  4 Shapley value:  552.8803959069357\n",
      "Coalition:  [1 3 4]  trading price:  1.3983364140480592\n",
      "Value function:  -324.05872257841327\n",
      "Player:  1 Shapley value:  -1350.471803676378\n",
      "Player:  3 Shapley value:  -644.9407468287644\n",
      "Player:  4 Shapley value:  346.81199442106356\n",
      "Coalition:  [2 3 4]  trading price:  1.5154035736290818\n",
      "Value function:  -859.4102228981864\n",
      "Player:  2 Shapley value:  -1558.2100188900918\n",
      "Player:  3 Shapley value:  -541.0716392219075\n",
      "Player:  4 Shapley value:  450.68110202792036\n",
      "Coalition:  [1 2 3 4]  trading price:  1.6256931608133085\n",
      "Value function:  -1627.929782919989\n",
      "Player:  1 Shapley value:  -793.9051984401585\n",
      "Player:  2 Shapley value:  -1373.1882714206156\n",
      "Player:  3 Shapley value:  -151.31711807051704\n",
      "Player:  4 Shapley value:  690.4808050113024\n"
     ]
    },
    {
     "name": "stderr",
     "output_type": "stream",
     "text": [
      "D:\\UNIVERSITA\\ESAMI DATI\\Game Theory\\smartgrid\\utils.py:54: VisibleDeprecationWarning: Creating an ndarray from ragged nested sequences (which is a list-or-tuple of lists-or-tuples-or ndarrays with different lengths or shapes) is deprecated. If you meant to do this, you must specify 'dtype=object' when creating the ndarray.\n",
      "  comb = np.array([np.array(xi) for xi in comb])\n"
     ]
    }
   ],
   "source": [
    "players = [1, 2, 3,4]\n",
    "\n",
    "# Select the energy\n",
    "#energy = np.array([335, -495, -96, 541], dtype = float) #simulation\n",
    "#energy = np.array([-798, -825, -757, -649], dtype = float) #winter\n",
    "energy = np.array([-335, -495, -96, 541], dtype = float) # summer\n",
    "\n",
    "pv = 2\n",
    "pa = 1\n",
    "d = np.array([4.95, 5.09, 5.87, 5.87])\n",
    "distance = np.array([[0,0.2,10.82,10.82],[0.2,0,10.97,10.96],[10.82,10.97,0,0.14],[10.82,10.96,0.14,0]])\n",
    "\n",
    "\n",
    "payoff_list = {\n",
    "    (0,): 0\n",
    "}\n",
    "for L in range(1, len(players)+1):\n",
    "    for subset in itertools.combinations(players, L):\n",
    "        v_2 = [0]\n",
    "        subset = np.array(subset)\n",
    "        Q = energy[subset-1]\n",
    "        \n",
    "        u_sell = [0]*len(Q[Q>0])\n",
    "        u = [0]*len(Q[Q<0])\n",
    "        \n",
    "        psm = price(subset, Q, pv)\n",
    "        \n",
    "        if len(subset)>1:\n",
    "            for h in range(len(payoff_list)):\n",
    "                if len(list(payoff_list.keys())[h]) < len(subset):\n",
    "                    for k in range(len(list(payoff_list.keys())[h])):\n",
    "                        if any(s == list(list(payoff_list.keys())[h])[k] for s in subset):\n",
    "                            v_2.append(list(payoff_list.values())[h])\n",
    "                            break\n",
    "            \n",
    "        val = payoff(subset, Q, energy, psm, u_sell, u)\n",
    "        payoff_list[tuple(subset)] = val\n",
    "        v_2.append(val)\n",
    "        print('Value function: ', val)\n",
    "        shap = np.array(shapley_value(len(Q),v_2))[:,1]\n",
    "        for i in range(len(subset)):\n",
    "            print('Player: ',subset[i], 'Shapley value: ', shap[i])"
   ]
  },
  {
   "cell_type": "code",
   "execution_count": null,
   "id": "c843af30-e1cd-417f-b8cb-6ab54228b97e",
   "metadata": {},
   "outputs": [],
   "source": []
  }
 ],
 "metadata": {
  "kernelspec": {
   "display_name": "Python 3 (ipykernel)",
   "language": "python",
   "name": "python3"
  },
  "language_info": {
   "codemirror_mode": {
    "name": "ipython",
    "version": 3
   },
   "file_extension": ".py",
   "mimetype": "text/x-python",
   "name": "python",
   "nbconvert_exporter": "python",
   "pygments_lexer": "ipython3",
   "version": "3.10.9"
  }
 },
 "nbformat": 4,
 "nbformat_minor": 5
}
