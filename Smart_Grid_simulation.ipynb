{
 "cells": [
  {
   "cell_type": "code",
   "execution_count": 10,
   "id": "1fde8ef9-38aa-47b4-9e5d-b85f0b1fb7ec",
   "metadata": {},
   "outputs": [],
   "source": [
    "import itertools\n",
    "import math\n",
    "import numpy as np"
   ]
  },
  {
   "cell_type": "code",
   "execution_count": 11,
   "id": "1a29c7ae-6b9c-4425-9a72-e7de6ff7831c",
   "metadata": {},
   "outputs": [],
   "source": [
    "%run -i utils.py"
   ]
  },
  {
   "cell_type": "markdown",
   "id": "2ac67f47-04a1-4c8c-b60d-05251de5bf18",
   "metadata": {},
   "source": [
    "### Parameters definition"
   ]
  },
  {
   "cell_type": "code",
   "execution_count": 40,
   "id": "f186ef65-cdaa-49e8-a03b-17c499ca3988",
   "metadata": {},
   "outputs": [],
   "source": [
    "# Number of prosumer\n",
    "n_players = 4\n",
    "# Seller price fixed\n",
    "pv = 2\n",
    "# Buyer price fixed\n",
    "pa = 1\n",
    "# Energy for each prosumer\n",
    "#energy = np.array([335, -495, -96, 541], dtype = float) #simulation\n",
    "#energy = np.array([-798, -825, -757, -649], dtype = float) #winter\n",
    "energy = np.array([-335, -495, -96, 541], dtype = float) # summer\n",
    "\n",
    "# Resistance of the distribution lines \n",
    "R = 0.2\n",
    "# Coefficient that quantify the power lost in the transformer at the M-G\n",
    "beta = 0.02\n",
    "# Mean value of the voltage\n",
    "U0 = 50\n",
    "U1 = 22\n",
    "\n",
    "# Distances from macro grid\n",
    "d = np.array([4.95, 5.09, 5.87, 5.87])\n",
    "# Matrix distances between prosumers\n",
    "distance = np.array([[0,0.2,10.82,10.82],[0.2,0,10.97,10.96],[10.82,10.97,0,0.14],[10.82,10.96,0.14,0]])"
   ]
  },
  {
   "cell_type": "code",
   "execution_count": 41,
   "id": "3091ecfd-7331-4d24-880b-51768a50ec0f",
   "metadata": {},
   "outputs": [
    {
     "name": "stdout",
     "output_type": "stream",
     "text": [
      "Coalition:  [1]  trading price:  2\n",
      "Value function:  -819.0\n",
      "Player:  1 Shapley value:  -819.0\n",
      "Coalition:  [2]  trading price:  2\n",
      "Value function:  -1443.0\n",
      "Player:  2 Shapley value:  -1443.0\n",
      "Coalition:  [3]  trading price:  2\n",
      "Value function:  -206.0\n",
      "Player:  3 Shapley value:  -206.0\n",
      "Coalition:  [4]  trading price:  1.0\n",
      "Value function:  541.0\n",
      "Player:  4 Shapley value:  541.0\n",
      "Coalition:  [1 2]  trading price:  2\n",
      "Value function:  -2262.0\n",
      "Player:  1 Shapley value:  -819.0\n",
      "Player:  2 Shapley value:  -1443.0\n",
      "Coalition:  [1 3]  trading price:  2\n",
      "Value function:  -1025.0\n",
      "Player:  1 Shapley value:  -819.0\n",
      "Player:  3 Shapley value:  -206.0\n",
      "Coalition:  [1 4]  trading price:  1.3096118299445472\n",
      "Value function:  -228.0\n",
      "Player:  1 Shapley value:  -794.0\n",
      "Player:  4 Shapley value:  566.0\n",
      "Coalition:  [2 3]  trading price:  2\n",
      "Value function:  -1649.0\n",
      "Player:  2 Shapley value:  -1443.0\n",
      "Player:  3 Shapley value:  -206.0\n",
      "Coalition:  [2 4]  trading price:  1.4574861367837337\n",
      "Value function:  -763.0\n",
      "Player:  2 Shapley value:  -1373.0\n",
      "Player:  4 Shapley value:  610.0\n",
      "Coalition:  [3 4]  trading price:  1.088724584103512\n",
      "Value function:  444.0\n",
      "Player:  3 Shapley value:  -151.0\n",
      "Player:  4 Shapley value:  596.0\n",
      "Coalition:  [1 2 3]  trading price:  2\n",
      "Value function:  -2468.0\n",
      "Player:  1 Shapley value:  -1020.0\n",
      "Player:  2 Shapley value:  -933.0\n",
      "Player:  3 Shapley value:  304.0\n",
      "Coalition:  [1 2 4]  trading price:  1.5890326555760936\n",
      "Value function:  -1531.0\n",
      "Player:  1 Shapley value:  -1144.0\n",
      "Player:  2 Shapley value:  -1057.0\n",
      "Player:  4 Shapley value:  553.0\n",
      "Coalition:  [1 3 4]  trading price:  1.3983364140480592\n",
      "Value function:  -324.0\n",
      "Player:  1 Shapley value:  -1350.0\n",
      "Player:  3 Shapley value:  -645.0\n",
      "Player:  4 Shapley value:  347.0\n",
      "Coalition:  [2 3 4]  trading price:  1.5154035736290818\n",
      "Value function:  -859.0\n",
      "Player:  2 Shapley value:  -1558.0\n",
      "Player:  3 Shapley value:  -541.0\n",
      "Player:  4 Shapley value:  451.0\n",
      "Coalition:  [1 2 3 4]  trading price:  1.6256931608133085\n",
      "Value function:  -1628.0\n",
      "Player:  1 Shapley value:  -794.0\n",
      "Player:  2 Shapley value:  -1373.0\n",
      "Player:  3 Shapley value:  -151.0\n",
      "Player:  4 Shapley value:  690.0\n"
     ]
    },
    {
     "name": "stderr",
     "output_type": "stream",
     "text": [
      "D:\\UNIVERSITA\\ESAMI DATI\\Game Theory\\smartgrid\\utils.py:54: VisibleDeprecationWarning: Creating an ndarray from ragged nested sequences (which is a list-or-tuple of lists-or-tuples-or ndarrays with different lengths or shapes) is deprecated. If you meant to do this, you must specify 'dtype=object' when creating the ndarray.\n",
      "  comb = np.array([np.array(xi) for xi in comb])\n",
      "C:\\Users\\lucia\\AppData\\Local\\Temp\\ipykernel_22452\\1242503646.py:32: DeprecationWarning: `np.float` is a deprecated alias for the builtin `float`. To silence this warning, use `float` by itself. Doing this will not modify any behavior and is safe. If you specifically wanted the numpy scalar type, use `np.float64` here.\n",
      "Deprecated in NumPy 1.20; for more details and guidance: https://numpy.org/devdocs/release/1.20.0-notes.html#deprecations\n",
      "  print('Player: ',subset[i], 'Shapley value: ', np.round(shap[i].astype(np.float)))\n"
     ]
    }
   ],
   "source": [
    "players = np.arange(1, n_players+1)\n",
    "\n",
    "payoff_list = {\n",
    "    (0,): 0\n",
    "}\n",
    "for L in range(1, len(players)+1):\n",
    "    for subset in itertools.combinations(players, L):\n",
    "        v_2 = [0]\n",
    "        subset = np.array(subset)\n",
    "        Q = energy[subset-1]\n",
    "        \n",
    "        u_sell = [0]*len(Q[Q>0])\n",
    "        u = [0]*len(Q[Q<0])\n",
    "        \n",
    "        psm = price(subset, Q, pv)\n",
    "        \n",
    "        if len(subset)>1:\n",
    "            for h in range(len(payoff_list)):\n",
    "                if len(list(payoff_list.keys())[h]) < len(subset):\n",
    "                    for k in range(len(list(payoff_list.keys())[h])):\n",
    "                        if any(s == list(list(payoff_list.keys())[h])[k] for s in subset):\n",
    "                            v_2.append(list(payoff_list.values())[h])\n",
    "                            break\n",
    "            \n",
    "        val = payoff(subset, Q, energy, psm, u_sell, u)\n",
    "        payoff_list[tuple(subset)] = val\n",
    "        v_2.append(val)\n",
    "        print('Value function: ', np.round(val))\n",
    "        shap = np.array(shapley_value(len(Q),v_2))[:,1]\n",
    "        \n",
    "        for i in range(len(subset)):\n",
    "            print('Player: ',subset[i], 'Shapley value: ', np.round(shap[i].astype(np.float)))"
   ]
  },
  {
   "cell_type": "code",
   "execution_count": null,
   "id": "87f0b203",
   "metadata": {},
   "outputs": [],
   "source": []
  }
 ],
 "metadata": {
  "kernelspec": {
   "display_name": "Python 3 (ipykernel)",
   "language": "python",
   "name": "python3"
  },
  "language_info": {
   "codemirror_mode": {
    "name": "ipython",
    "version": 3
   },
   "file_extension": ".py",
   "mimetype": "text/x-python",
   "name": "python",
   "nbconvert_exporter": "python",
   "pygments_lexer": "ipython3",
   "version": "3.10.9"
  }
 },
 "nbformat": 4,
 "nbformat_minor": 5
}
